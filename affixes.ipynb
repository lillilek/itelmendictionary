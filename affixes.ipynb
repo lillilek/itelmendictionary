{
  "nbformat": 4,
  "nbformat_minor": 0,
  "metadata": {
    "colab": {
      "provenance": []
    },
    "kernelspec": {
      "name": "python3",
      "display_name": "Python 3"
    },
    "language_info": {
      "name": "python"
    }
  },
  "cells": [
    {
      "cell_type": "code",
      "source": [
        "!pip install pymupdf\n"
      ],
      "metadata": {
        "colab": {
          "base_uri": "https://localhost:8080/"
        },
        "id": "MOkGBUlp2HKF",
        "outputId": "416a500d-1e23-4ae0-a773-816b7130ae0a"
      },
      "execution_count": 2,
      "outputs": [
        {
          "output_type": "stream",
          "name": "stdout",
          "text": [
            "Collecting pymupdf\n",
            "  Downloading pymupdf-1.25.4-cp39-abi3-manylinux2014_x86_64.manylinux_2_17_x86_64.whl.metadata (3.4 kB)\n",
            "Downloading pymupdf-1.25.4-cp39-abi3-manylinux2014_x86_64.manylinux_2_17_x86_64.whl (20.0 MB)\n",
            "\u001b[2K   \u001b[90m━━━━━━━━━━━━━━━━━━━━━━━━━━━━━━━━━━━━━━━━\u001b[0m \u001b[32m20.0/20.0 MB\u001b[0m \u001b[31m74.5 MB/s\u001b[0m eta \u001b[36m0:00:00\u001b[0m\n",
            "\u001b[?25hInstalling collected packages: pymupdf\n",
            "Successfully installed pymupdf-1.25.4\n"
          ]
        }
      ]
    },
    {
      "cell_type": "code",
      "source": [
        "import fitz  # PyMuPDF\n",
        "import re\n",
        "import pandas as pd\n",
        "\n",
        "# Функция транслитерации\n",
        "def transliterate(text, reverse=True):\n",
        "    mapping = {\n",
        "        \"ti\": \"ты\", \"li\": \"лы\", \"ni\": \"ны\", \"ɨ\": \"ы\",\n",
        "        \"p\": \"п\",  \"p'\": \"пʼ\",\n",
        "        \"t\": \"т\",  \"t'\": \"тʼ\",\n",
        "        \"k\": \"к\",  \"k'\": \"кʼ\",\n",
        "        \"q\": \"ӄ\",  \"q'\": \"ӄʼ\",\n",
        "        \"č\": \"ч\",  \"č'\": \"чʼ\",\n",
        "        \"f\": \"ф\",  \"s\": \"с\",\n",
        "        \"x\": \"х\",  \"χ\": \"ӽ\",\n",
        "        \"w\": \"в\",  \"z\": \"з\",\n",
        "        \"j\": \"й\",  \"g\": \"г\",\n",
        "        \"ɬ\": \"ԓ\", \"l\": \"л\",\n",
        "        \"ʎ\": \"љ\",  \"r\": \"р\",\n",
        "        \"m\": \"м\",  \"n\": \"н\",\n",
        "        \"ɲ\": \"њ\",  \"ŋ\": \"ӈ\",\n",
        "        \"ʔ\": \"ʔ\",  \"d\": \"д\",\n",
        "        \"b\" : \"б\",\n",
        "        \"ʂ\":\"ш\",\n",
        "        \"ɕː\":\"щ\",\n",
        "        \"ʐ\":\"ж\",\n",
        "        \"t͡s\":\"ц\",\n",
        "        \"i\": \"и\", \"u\": \"у\", \"e\": \"е\", \"o\": \"о\", \"a\": \"а\", \"ə\": \"ә\", \"e\": \"э\",\n",
        "        \"'\": \"ь\",  \"ʷ\": \"˚\", \"ŭ\": \"ў\", \"ŏ\": \"ŏ\", \"ǎ\": \"ǎ\",\n",
        "    }\n",
        "    if reverse:\n",
        "        mapping = {v: k for k, v in mapping.items()}\n",
        "    sorted_keys = sorted(mapping.keys(), key=len, reverse=True)\n",
        "    result = text\n",
        "    for src in sorted_keys:\n",
        "        tgt = mapping[src]\n",
        "        result = result.replace(src, tgt)\n",
        "    return result\n",
        "\n",
        "doc = fitz.open(\"/content/Володин и др._2021_Полный ительменско-русский словарь (1)-387-393.pdf\")\n",
        "text = \"\\n\".join(page.get_text() for page in doc)\n",
        "\n",
        "lines = re.findall(r\"(?m)^(-\\S+.*?)$\", text)\n",
        "\n",
        "affixes = []\n",
        "current_affix = None\n",
        "for line in lines:\n",
        "    if re.match(r\"^-\\S+\", line):\n",
        "        if current_affix:\n",
        "            affixes.append(current_affix)\n",
        "        current_affix = line\n",
        "    elif current_affix:\n",
        "        current_affix += \" \" + line.strip()\n",
        "if current_affix:\n",
        "    affixes.append(current_affix)\n",
        "\n",
        "data = []\n",
        "for entry in affixes:\n",
        "    match = re.match(r\"^(-\\S+(?:\\s*\\([^)]+\\))?)\\s+(.*)\", entry)\n",
        "    if match:\n",
        "        affix, description = match.groups()\n",
        "        data.append((affix.strip(), description.strip()))\n",
        "    else:\n",
        "        data.append((entry.strip(), \"\"))\n",
        "\n",
        "df = pd.DataFrame(data, columns=[\"Аффикс\", \"Описание\"])\n",
        "\n",
        "df[\"Аффикс\"] = df[\"Аффикс\"].apply(transliterate)\n",
        "\n",
        "def transliterate_affix_like_parts(text):\n",
        "    words = text.split()\n",
        "    result = []\n",
        "    for word in words:\n",
        "        if word.startswith(\"-\"):\n",
        "            result.append(transliterate(word))\n",
        "        else:\n",
        "            result.append(word)\n",
        "    return \" \".join(result)\n",
        "\n",
        "df[\"Описание\"] = df[\"Описание\"].apply(transliterate_affix_like_parts)\n",
        "\n",
        "df.to_csv(\"affixes_transliterated.csv\", index=False, encoding=\"utf-8\")\n"
      ],
      "metadata": {
        "id": "-odII5zm2ueu"
      },
      "execution_count": 9,
      "outputs": []
    }
  ]
}